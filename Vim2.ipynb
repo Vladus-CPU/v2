{
  "cells": [
    {
      "cell_type": "markdown",
      "metadata": {},
      "source": [
        "# Налаштування середовища\n",
        "У цьому розділі встановлюємо необхідні бібліотеки та автентифікуємося (за потреби) у Hugging Face. "
      ]
    },
    {
      "cell_type": "code",
      "metadata": {},
      "outputs": [],
      "source": [
        "!pip install --quiet diffusers transformers accelerate safetensors",
        "!pip install --quiet xformers  # За необхідності прискорити інференс\n",
        "# За бажанням можна увійти в обліковий запис Hugging Face:\n",
        "# from huggingface_hub import notebook_login\n",
        "# notebook_login()"
      ]
    },
    {
      "cell_type": "markdown",
      "metadata": {},
      "source": [
        "# Імпорт необхідних модулів"
      ]
    },
    {
      "cell_type": "code",
      "metadata": {},
      "outputs": [],
      "source": [
        "import torch\n",
        "from diffusers import StableDiffusionXLPipeline, EulerDiscreteScheduler, EulerAncestralDiscreteScheduler,\n",
        "DPMSolverMultistepScheduler, DDIMScheduler, StableDiffusionXLImg2ImgPipeline\n",
        "from PIL import Image\n",
        "import requests\n",
        "import os\n"
      ]
    },
    {
      "cell_type": "markdown",
      "metadata": {},
      "source": [
        "# Завантаження моделі\n",
        "Завантажуємо модель з Hugging Face, а також видаляємо або збільшуємо обмеження токенізатора, щоб зняти ліміт символів."
      ]
    },
    {
      "cell_type": "code",
      "metadata": {},
      "outputs": [],
      "source": [
        "model_id = \"Laxhar/noobai-XL-1.1\"\n",
        "\n",
        "# Створюємо пайплайн\n",
        "pipe = StableDiffusionXLPipeline.from_pretrained(\n",
        "    model_id,\n",
        "    torch_dtype=torch.float16,\n",
        "    variant=\"fp16\",\n",
        "    use_safetensors=True\n",
        ").to(\"cuda\")\n",
        "\n",
        "# Встановлюємо довільно велике значення довжини токенів для обох токенізаторів\n",
        "pipe.tokenizer.model_max_length = 1000000\n",
        "pipe.tokenizer_2.model_max_length = 1000000\n",
        "\n",
        "# За замовчуванням використовується EulerDiscreteScheduler;\n",
        "# щоб легко перемикатись, створимо словник можливих scheduler:\n",
        "schedulers = {\n",
        "    \"euler\": EulerDiscreteScheduler.from_config(pipe.scheduler.config),\n",
        "    \"euler_ancestral\": EulerAncestralDiscreteScheduler.from_config(pipe.scheduler.config),\n",
        "    \"dpm\": DPMSolverMultistepScheduler.from_config(pipe.scheduler.config),\n",
        "    \"ddim\": DDIMScheduler.from_config(pipe.scheduler.config)\n",
        "}\n",
        "\n",
        "def set_scheduler(pipeline, scheduler_name=\"euler\"):\n",
        "    if scheduler_name in schedulers:\n",
        "        pipeline.scheduler = schedulers[scheduler_name]\n",
        "    else:\n",
        "        print(f\"Невідомий scheduler: {scheduler_name}. Використовую euler за замовчуванням.\")\n",
        "        pipeline.scheduler = schedulers[\"euler\"]\n",
        "\n",
        "set_scheduler(pipe, \"euler\")  # За замовчуванням"
      ]
    },
    {
      "cell_type": "markdown",
      "metadata": {},
      "source": [
        "# Функція для генерації зображень\n",
        "Тут можна налаштовувати:\n",
        "- Метод семплінгу (scheduler_name)\n",
        "- Кількість кроків (num_inference_steps)\n",
        "- Seed (generator)\n",
        "- CFG scale (guidance_scale)\n",
        "- Розмір вихідного зображення (width, height)\n",
        "- Проста підтримка hires fix.\n",
        "\n",
        "Для hires fix (наприклад 8x-NKMD-Superscale) – умовно показуємо, як можна збільшити роздільну здатність після генерації.\n",
        "Зверніть увагу, що реальне масштабування 8x потребує додаткового upscaler-модуля (наприклад, ESRGAN або інші). Тут наведено приклад умовної реалізації."
      ]
    },
    {
      "cell_type": "code",
      "metadata": {},
      "outputs": [],
      "source": [
        "def generate_image(\n",
        "        prompt,\n",
        "        negative_prompt=None,\n",
        "        scheduler_name=\"euler\",\n",
        "        num_inference_steps=30,\n",
        "        seed=0,\n",
        "        guidance_scale=7.5,\n",
        "        width=512,\n",
        "        height=512,\n",
        "        hires_fix=False,\n",
        "        hires_scale=2\n",
        "    ):\n",
        "    # Встановлюємо потрібний scheduler\n",
        "    set_scheduler(pipe, scheduler_name)\n",
        "\n",
        "    # Відтворюваність\n",
        "    generator = torch.Generator(\"cuda\").manual_seed(seed)\n",
        "\n",
        "    # Генерація зображення\n",
        "    image = pipe(\n",
        "        prompt=prompt,\n",
        "        negative_prompt=negative_prompt,\n",
        "        num_inference_steps=num_inference_steps,\n",
        "        guidance_scale=guidance_scale,\n",
        "        generator=generator,\n",
        "        width=width,\n",
        "        height=height\n",
        "    ).images[0]\n",
        "\n",
        "    if hires_fix:\n",
        "        # Умовна логіка: масштабувати зображення\n",
        "        # Реалізація залежить від обраного інструменту. Нижче – проста PIL-версія.\n",
        "        new_width = width * hires_scale\n",
        "        new_height = height * hires_scale\n",
        "        image = image.resize((new_width, new_height), resample=Image.LANCZOS)\n",
        "        # Для 8x можна заданий hires_scale=8\n",
        "\n",
        "    return image\n",
        "\n",
        "# Приклад виклику:\n",
        "# img = generate_image(\n",
        "#     prompt=\"A cute cat, highly detailed\",\n",
        "#     negative_prompt=\"\",\n",
        "#     scheduler_name=\"euler\",\n",
        "#     num_inference_steps=25,\n",
        "#     seed=123,\n",
        "#     guidance_scale=7.5,\n",
        "#     width=512,\n",
        "#     height=512,\n",
        "#     hires_fix=True,\n",
        "#     hires_scale=2\n",
        "# )\n",
        "# img"
      ]
    },
    {
      "cell_type": "markdown",
      "metadata": {},
      "source": [
        "# Використання\n",
        "1. Встановіть або змініть між різними методами семплінгу: \"euler\", \"euler_ancestral\", \"dpm\", \"ddim\"\n",
        "2. Налаштуйте кількість кроків (num_inference_steps)\n",
        "3. Оберіть seed для відтворюваності\n",
        "4. Задайте CFG scale (guidance_scale)\n",
        "5. Виберіть роздільну здатність, а також увімкніть hires_fix, якщо потрібно\n",
        "6. Зверніть увагу, що реальна \"8x-NKMD-Superscale\" вимагатиме іншого/додаткового спеціалізованого апскейлера.\n",
        "\n",
        "Після запуску всіх ячейок ви можете викликати функцію `generate_image(...)` з потрібними параметрами."
      ]
    }
  ],
  "metadata": {
    "language_info": {
      "name": "python"
    },
    "colab": {
      "name": "noobaiXL_colab.ipynb"
    }
  },
  "nbformat": 4,
  "nbformat_minor": 5
}
