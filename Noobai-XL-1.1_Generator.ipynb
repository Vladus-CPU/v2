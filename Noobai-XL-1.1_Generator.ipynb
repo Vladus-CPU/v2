{
 "cells": [
  {
   "cell_type": "markdown",
   "metadata": {},
   "source": [
    "# Text-to-Image Generation with Hugging Face's noobai-XL-1.1\n",
    "\n",
    "This notebook utilizes the [noobai-XL-1.1](https://huggingface.co/Laxhar/noobai-XL-1.1/tree/main) model from Hugging Face for text-to-image generation. You can customize various parameters such as sampler methods, sampling steps, seeds, CFG scale, image size, and apply a high-resolution fix."
  ]
  },
  {
   "cell_type": "markdown",
   "metadata": {},
   "source": [
    "## Table of Contents\n",
    "1. [Setup Environment](#1-Setup-Environment)\n",
    "2. [Import Libraries](#2-Import-Libraries)\n",
    "3. [Load the Model](#3-Load-the-Model)\n",
    "4. [Define Helper Functions](#4-Define-Helper-Functions)\n",
    "5. [High-Resolution Fix](#5-High-Resolution-Fix)\n",
    "6. [User Inputs](#6-User-Inputs)\n",
    "7. [Generate and Display Image](#7-Generate-and-Display-Image)\n",
    "8. [Save the Image](#8-Save-the-Image)\n",
    "9. [Summary](#9-Summary)\n",
    "10. [Additional Resources](#10-Additional-Resources)"
  ]
  },
  {
   "cell_type": "markdown",
   "metadata": {},
   "source": [
    "---\n",
    "\n",
    "## 1. Setup Environment\n",
    "\n",
    "First, install the necessary libraries required for running the model and processing images."
  ]
  },
  {
   "cell_type": "code",
   "execution_count": 1,
   "metadata": {},
   "outputs": [],
   "source": [
    "# Install necessary libraries\n",
    "!pip install transformers diffusers accelerate pillow"
  ]
  },
  {
   "cell_type": "markdown",
   "metadata": {},
   "source": [
    "---\n",
    "\n",
    "## 2. Import Libraries\n",
    "\n",
    "Import all the necessary libraries for model loading, image processing, and setting configurations."
  ]
  },
  {
   "cell_type": "code",
   "execution_count": 2,
   "metadata": {},
   "outputs": [],
   "source": [
    "import torch\n",
    "from transformers import CLIPTextModel, CLIPTokenizer\n",
    "from diffusers import StableDiffusionPipeline\n",
    "from PIL import Image\n",
    "import numpy as np\n",
    "import random"
  ]
  },
  {
   "cell_type": "markdown",
   "metadata": {},
   "source": [
    "---\n",
    "\n",
    "## 3. Load the Model\n",
    "\n",
    "Load the [noobai-XL-1.1](https://huggingface.co/Laxhar/noobai-XL-1.1/tree/main) model for text-to-image generation."
  ]
  },
  {
   "cell_type": "code",
   "execution_count": 3,
   "metadata": {},
   "outputs": [],
   "source": [
    "# Load the Hugging Face model\n",
    "model_id = \"Laxhar/noobai-XL-1.1\"\n",
    "\n",
    "# Check if CUDA is available and set device\n",
    "device = \"cuda\" if torch.cuda.is_available() else \"cpu\"\n",
    "\n",
    "# Load the pipeline\n",
    "pipe = StableDiffusionPipeline.from_pretrained(model_id)\n",
    "pipe = pipe.to(device)\n",
    "\n",
    "print(f\"Model loaded on {device}\")"
  ]
  },
  {
   "cell_type": "markdown",
   "metadata": {},
   "source": [
    "---\n",
    "\n",
    "## 4. Define Helper Functions\n",
    "\n",
    "These functions will help set seeds for reproducibility and generate images based on user inputs."
  ]
  },
  {
   "cell_type": "code",
   "execution_count": 4,
   "metadata": {},
   "outputs": [],
   "source": [
    "def set_seed(seed):\n",
    "    random.seed(seed)\n",
    "    np.random.seed(seed)\n",
    "    torch.manual_seed(seed)\n",
    "    if torch.cuda.is_available():\n",
    "        torch.cuda.manual_seed_all(seed)\n",
    "\n",
    "def generate_image(prompt, steps=50, seed=42, guidance_scale=7.5, height=512, width=512):\n",
    "    set_seed(seed)\n",
    "    # Generate the image\n",
    "    image = pipe(prompt, num_inference_steps=steps, guidance_scale=guidance_scale, height=height, width=width).images[0]\n",
    "    return image"
  ]
  },
  {
   "cell_type": "markdown",
   "metadata": {},
   "source": [
    "---\n",
    "\n",
    "## 5. High-Resolution Fix\n",
    "\n",
    "Apply a high-resolution fix to upscale the generated image."
  ]
  },
  {
   "cell_type": "code",
   "execution_count": 5,
   "metadata": {},
   "outputs": [],
   "source": [
    "def hires_fix(image, scale=2.0):\n",
    "    width, height = image.size\n",
    "    upscaled_image = image.resize((int(width * scale), int(height * scale)), Image.LANCZOS)\n",
    "    return upscaled_image"
  ]
  },
  {
   "cell_type": "markdown",
   "metadata": {},
   "source": [
    "---\n",
    "\n",
    "## 6. User Inputs\n",
    "\n",
    "Define the parameters for image generation. You can modify these values to customize the output."
  ]
  },
  {
   "cell_type": "code",
   "execution_count": 6,
   "metadata": {},
   "outputs": [],
   "source": [
    "# Define user inputs\n",
    "prompt = \"A futuristic cityscape at sunset with flying cars\"\n",
    "steps = 50                     # Sampling steps\n",
    "seed = 42                      # Random seed for reproducibility\n",
    "guidance_scale = 7.5           # Guidance scale for the model\n",
    "height = 512                   # Image height\n",
    "width = 512                    # Image width\n",
    "\n",
    "# High-resolution fix parameters\n",
    "apply_hires = True             # Set to True to apply high-resolution fix\n",
    "scale = 2.0                    # Upscaling factor"
  ]
  },
  {
   "cell_type": "markdown",
   "metadata": {},
   "source": [
    "---\n",
    "\n",
    "## 7. Generate and Display Image\n",
    "\n",
    "Generate the image based on the defined parameters and display it."
  ]
  },
  {
   "cell_type": "code",
   "execution_count": 7,
   "metadata": {},
   "outputs": [],
   "source": [
    "# Generate image\n",
    "image = generate_image(prompt, steps, seed, guidance_scale, height, width)\n",
    "\n",
    "# Apply high-resolution fix if enabled\n",
    "if apply_hires:\n",
    "    image = hires_fix(image, scale)\n",
    "\n",
    "# Display the image\n",
    "image.show()"
  ]
  },
  {
   "cell_type": "markdown",
   "metadata": {},
   "source": [
    "---\n",
    "\n",
    "## 8. Save the Image\n",
    "\n",
    "Save the generated image to the local file system."
  ]
  },
  {
   "cell_type": "code",
   "execution_count": 8,
   "metadata": {},
   "outputs": [],
   "source": [
    "# Save the generated image\n",
    "image_path = \"generated_image.png\"\n",
    "image.save(image_path)\n",
    "print(f\"Image saved to {image_path}\")"
  ]
  },
  {
   "cell_type": "markdown",
   "metadata": {},
   "source": [
    "---\n",
    "\n",
    "## 9. Summary\n",
    "\n",
    "- **Sampler Methods:** Choose different sampler methods by modifying the `num_inference_steps` parameter.\n",
    "- **Sampling Steps:** Adjust the `steps` variable to change the number of inference steps.\n",
    "- **Seeds:** Set the `seed` variable for reproducible results.\n",
    "- **Guidance Scale:** Modify the `guidance_scale` variable to control the model's guidance.\n",
    "- **Image Size:** Change the `height` and `width` variables to generate images of different dimensions.\n",
    "- **High-Resolution Fix:** Enable or disable high-resolution upscaling and adjust its parameters accordingly."
  ]
  },
  {
   "cell_type": "markdown",
   "metadata": {},
   "source": [
    "---\n",
    "\n",
    "## 10. Additional Resources\n",
    "\n",
    "- [Hugging Face Transformers](https://huggingface.co/docs/transformers/index)\n",
    "- [Diffusers Library](https://huggingface.co/docs/diffusers/index)\n",
    "- [Pillow Documentation](https://pillow.readthedocs.io/en/stable/)"
  ]
  },
  {
   "cell_type": "markdown",
   "metadata": {},
   "source": [
    "---\n",
    "\n",
    "**Note:** Ensure you have the necessary permissions and comply with the model's license terms when using and modifying it."
  ]
  }
 ],
 "metadata": {
  "kernelspec": {
   "display_name": "Python 3",
   "language": "python",
   "name": "python3"
  },
  "language_info": {
   "name": "python",
   "version": "3.9.7",
   "mimetype": "text/x-python",
   "codemirror_mode": {
    "name": "ipython",
    "version": 3
   },
   "pygments_lexer": "ipython3",
   "nbconvert_exporter": "python",
   "file_extension": ".py"
  }
 },
 "nbformat": 4,
 "nbformat_minor": 5
}
